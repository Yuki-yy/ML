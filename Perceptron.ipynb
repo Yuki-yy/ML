{
 "cells": [
  {
   "cell_type": "markdown",
   "metadata": {
    "slideshow": {
     "slide_type": "slide"
    }
   },
   "source": [
    "# パーセプトロンを用いた最初の機械学習"
   ]
  },
  {
   "cell_type": "markdown",
   "metadata": {},
   "source": [
    "#### 1. 必要なモジュールをインポートします"
   ]
  },
  {
   "cell_type": "code",
   "execution_count": 1,
   "metadata": {},
   "outputs": [],
   "source": [
    "from sklearn import datasets\n",
    "from sklearn.model_selection import train_test_split \n",
    "import numpy as np\n",
    "import matplotlib.pyplot as plt"
   ]
  },
  {
   "cell_type": "markdown",
   "metadata": {},
   "source": [
    "#### 2. パーセプトロンを実装します\n",
    "パーセプトロンは、入力されたデータと重みの積の総和を求め、その値をステップ関数にかけた値を出力します。(今回は、0または1が出力されます。)  \n",
    "つまり、パーセプトロンは２値分類が可能です。  \n",
    "出力値が正解値と異なる場合、重みを更新します。\n",
    "$$ \\Delta\\omega = \\eta(answer-output)x $$\n",
    "$$ \\omega := \\omega + \\Delta\\omega $$"
   ]
  },
  {
   "cell_type": "code",
   "execution_count": 2,
   "metadata": {},
   "outputs": [],
   "source": [
    "class Perceptron:\n",
    "    \n",
    "    \"\"\"This class express Perceptron model.\n",
    "    Perceptron can classify input-data into two values.\n",
    "    Two values are 0 and 1, so using fit method, give target data just included 1 or 0.\n",
    "    \n",
    "    params\n",
    "        learning_rate; default: 0.01, type: float, expected bigger than 0 and smaller than 1.\n",
    "        epochs; default: 10, type: integer.\n",
    "    \"\"\"\n",
    "    \n",
    "    \n",
    "    def __init__(self, learning_rate=0.01, epochs=10):\n",
    "        \n",
    "        self.eta = learning_rate\n",
    "        self.epochs = epochs\n",
    "        self.errors = []\n",
    "    \n",
    "    \n",
    "    def fit(self, X, target):\n",
    "        \n",
    "        \"\"\"Traning model.\"\"\"\n",
    "        \n",
    "        X_shape = X.shape\n",
    "        self.w_ = np.random.normal(loc=0., scale=0.01, size=X_shape[1] + 1)\n",
    "        \n",
    "        for _ in range(self.epochs):\n",
    "            \n",
    "            error_count = 0\n",
    "            for xi, yi in zip(X, target):\n",
    "\n",
    "                total_input = self.calculate_sigma(xi)\n",
    "                output = self.one_step_func(total_input)\n",
    "                delta_w, error = self.calculate_delta_w(xi, yi, output)\n",
    "                error_count += int(error != 0) \n",
    "                self.update_w(delta_w)\n",
    "            \n",
    "            self.errors.append(error_count)\n",
    "    \n",
    "    \n",
    "    def calculate_sigma(self, xi):\n",
    "        \n",
    "        \"\"\"Calculate the sum of products of input values and weights.\"\"\"\n",
    "        \n",
    "        sigma = np.dot(xi, self.w_[1:]) + self.w_[0]\n",
    "        return sigma\n",
    "    \n",
    "    \n",
    "    def one_step_func(self, sigma):\n",
    "        \n",
    "        \"\"\"Separate data from sigma into 1 or 0.\"\"\"\n",
    "        \n",
    "        return np.where(sigma >= 0, 1, 0)\n",
    "    \n",
    "    \n",
    "    def calculate_delta_w(self, xi, yi, output):\n",
    "        \n",
    "        \"\"\"Calculate the variation of weights.\"\"\"\n",
    "        \n",
    "        xi = [1] + xi\n",
    "        error = yi - output\n",
    "        delta_w = self.eta * error * xi\n",
    "        return delta_w, error\n",
    "        \n",
    "    \n",
    "    def update_w(self, delta_w):\n",
    "        \n",
    "        \"\"\"Update weights.\"\"\"\n",
    "        \n",
    "        self.w_[1:] += delta_w\n",
    "    \n",
    "    \n",
    "    def predict(self, xi):\n",
    "        \n",
    "        \"\"\"Predict the answer.\"\"\"\n",
    "        \n",
    "        sigma = self.calculate_sigma(xi)\n",
    "        return self.one_step_func(sigma)\n"
   ]
  },
  {
   "cell_type": "markdown",
   "metadata": {},
   "source": [
    "#### 3. モデルを学習します\n",
    "scikit-learnのIris-datasetsを使用しますが、このデータセットには３つの目的変数があります（３種類の花があります）。\n",
    "パーセプトロンは２値分類機なので、このうち２つしか使用しません。  \n",
    "つまり、0~99番目データを使用します。"
   ]
  },
  {
   "cell_type": "code",
   "execution_count": 3,
   "metadata": {},
   "outputs": [],
   "source": [
    "model = Perceptron()\n",
    "iris = datasets.load_iris()\n",
    "X = iris.data[:100]\n",
    "t = iris.target[:100]\n",
    "X_train, X_test, t_train, t_test = train_test_split(X, t, stratify=t)\n",
    "\n",
    "model.fit(X_train, t_train)"
   ]
  },
  {
   "cell_type": "markdown",
   "metadata": {},
   "source": [
    "#### 4. 学習過程を表示します"
   ]
  },
  {
   "cell_type": "code",
   "execution_count": 4,
   "metadata": {},
   "outputs": [
    {
     "data": {
      "text/plain": [
       "[<matplotlib.lines.Line2D at 0x1a1f9fac10>]"
      ]
     },
     "execution_count": 4,
     "metadata": {},
     "output_type": "execute_result"
    },
    {
     "data": {
      "image/png": "[encoded data removed]",
      "text/plain": [
       "<Figure size 432x288 with 1 Axes>"
      ]
     },
     "metadata": {
      "needs_background": "light"
     },
     "output_type": "display_data"
    }
   ],
   "source": [
    "plt.title('The number of errors per an epoch')\n",
    "plt.xlabel('Epochs')\n",
    "plt.ylabel('Errors')\n",
    "plt.plot(range(1, model.epochs+1), model.errors, marker='o')"
   ]
  },
  {
   "cell_type": "markdown",
   "metadata": {},
   "source": [
    "#### 5. モデルを評価します"
   ]
  },
  {
   "cell_type": "code",
   "execution_count": 5,
   "metadata": {},
   "outputs": [
    {
     "name": "stdout",
     "output_type": "stream",
     "text": [
      "accuracy = 1.0\n"
     ]
    }
   ],
   "source": [
    "correctness = 0\n",
    "for x, t in zip(X_test, t_test):\n",
    "    output = model.predict(x)\n",
    "    correctness += np.where(output == t, 1, 0)\n",
    "\n",
    "print(f'accuracy = {correctness / len(X_test)}')"
   ]
  }
 ],
 "metadata": {
  "kernelspec": {
   "display_name": "Python 3",
   "language": "python",
   "name": "python3"
  },
  "language_info": {
   "codemirror_mode": {
    "name": "ipython",
    "version": 3
   },
   "file_extension": ".py",
   "mimetype": "text/x-python",
   "name": "python",
   "nbconvert_exporter": "python",
   "pygments_lexer": "ipython3",
   "version": "3.7.6"
  }
 },
 "nbformat": 4,
 "nbformat_minor": 4
}
