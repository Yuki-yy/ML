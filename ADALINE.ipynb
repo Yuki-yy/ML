{
 "cells": [
  {
   "cell_type": "markdown",
   "metadata": {},
   "source": [
    "# ADALINEを用いた機械学習"
   ]
  },
  {
   "cell_type": "markdown",
   "metadata": {},
   "source": [
    "#### 1. 必要なモジュールをインポートします"
   ]
  },
  {
   "cell_type": "code",
   "execution_count": 22,
   "metadata": {},
   "outputs": [],
   "source": [
    "from sklearn import datasets\n",
    "from sklearn.model_selection import train_test_split\n",
    "import numpy as np\n",
    "import matplotlib.pyplot as plt"
   ]
  },
  {
   "cell_type": "markdown",
   "metadata": {},
   "source": [
    "#### 2. ADALINEを実装します\n",
    "ADALINEは、Perceptronの進化版とも言える、単一ニューロンからなるニューラルネットワークです。  \n",
    "Perceptronと何が違うのか?\n",
    "- コスト関数、活性化関数が導入されました\n",
    "- 重みの更新は、1エポックごとに行われます"
   ]
  },
  {
   "cell_type": "code",
   "execution_count": 23,
   "metadata": {},
   "outputs": [],
   "source": [
    "class ADALINE:\n",
    "    \n",
    "    \n",
    "    def __init__(self, learning_rate=0.0005, epochs=20):\n",
    "        \n",
    "        self.eta = learning_rate\n",
    "        self.epochs = epochs\n",
    "        self.errors = []\n",
    "    \n",
    "    \n",
    "    def fit(self, X, target):\n",
    "        \n",
    "        \"\"\"Traning model.\"\"\"\n",
    "        \n",
    "        self.w_ = np.random.normal(loc=0, scale=0.0001, size=X.shape[1] + 1)\n",
    "        \n",
    "        for _ in range(self.epochs):\n",
    "            \n",
    "            activation_output = np.array([])\n",
    "            for xi in X:\n",
    "                \n",
    "                sigma = self.calculate_sigma(xi)\n",
    "                act_out = self.activation_func(sigma)\n",
    "                activation_output = np.append(activation_output, act_out)\n",
    "            \n",
    "            error = self.update_w(activation_output, X, target)\n",
    "            self.errors.append(error)\n",
    "    \n",
    "    \n",
    "    def calculate_sigma(self, xi):\n",
    "        \n",
    "        \"\"\"Calculate the sum of products of input values and weights.\"\"\"\n",
    "        \n",
    "        sigma = np.dot(xi, self.w_[1:]) + self.w_[0]\n",
    "        return sigma\n",
    "    \n",
    "    \n",
    "    def activation_func(self, sigma):\n",
    "        \n",
    "        \"\"\"Apply activation function, but that is identity function for ADALINE.\"\"\"\n",
    "        \n",
    "        return sigma\n",
    "    \n",
    "    \n",
    "    def update_w(self, activation_output, X, target):\n",
    "        \n",
    "        \"\"\"Calculate the variation of weights and update it.\"\"\"\n",
    "        \n",
    "        error = target - activation_output\n",
    "        cost = self.cost_func(error)\n",
    "        \n",
    "        delta_w_0 = self.eta * np.sum(error)\n",
    "        delta_w_1_ = self.eta * np.dot(error, X)\n",
    "        delta_w = np.insert(delta_w_1_, 0, delta_w_0)\n",
    "        self.w_ += delta_w\n",
    "        return cost\n",
    "    \n",
    "    \n",
    "    def cost_func(self, error):\n",
    "        \n",
    "        \"\"\"Apply cost function, but that is SSE(Sum of Squared Error).\"\"\"\n",
    "        \n",
    "        cost = np.sum(np.power(error, 2)) / 2\n",
    "        return cost\n",
    "    \n",
    "    \n",
    "    def predict(self, xi):\n",
    "        \n",
    "        \"\"\"Predict the answer.\"\"\"\n",
    "        \n",
    "        sigma = self.calculate_sigma(xi)\n",
    "        activation_output = self.activation_func(sigma)\n",
    "        output = self.one_step_func(activation_output)\n",
    "        return output\n",
    "    \n",
    "    \n",
    "    def one_step_func(self, activation_output):\n",
    "        \n",
    "        \"\"\"Separate data from activation_output into 1 or 0.\"\"\"\n",
    "        \n",
    "        return np.where(activation_output>=0.5, 1, 0)\n"
   ]
  },
  {
   "cell_type": "markdown",
   "metadata": {},
   "source": [
    "#### 3. モデルを学習します\n",
    "scikit-learnのIris-datasetsを使用しますが、このデータセットには３つの目的変数があります（３種類の花があります）。\n",
    "パーセプトロンは２値分類機なので、このうち２つしか使用しません。  \n",
    "つまり、0~99番目データを使用します。"
   ]
  },
  {
   "cell_type": "code",
   "execution_count": 24,
   "metadata": {},
   "outputs": [],
   "source": [
    "model = ADALINE()\n",
    "iris = datasets.load_iris()\n",
    "X = iris.data[:100]\n",
    "t = iris.target[:100]\n",
    "X_train, X_test, t_train, t_test = train_test_split(X, t, stratify=t)\n",
    "\n",
    "model.fit(X_train, t_train)"
   ]
  },
  {
   "cell_type": "markdown",
   "metadata": {},
   "source": [
    "#### 4. 学習過程を表示します\n",
    "Percptronとは違って確実に収束に向かっています。"
   ]
  },
  {
   "cell_type": "code",
   "execution_count": 25,
   "metadata": {},
   "outputs": [
    {
     "data": {
      "text/plain": [
       "[<matplotlib.lines.Line2D at 0x1a19ca9310>]"
      ]
     },
     "execution_count": 25,
     "metadata": {},
     "output_type": "execute_result"
    },
    {
     "data": {
      "image/png": "[encoded data removed]",
      "text/plain": [
       "<Figure size 432x288 with 1 Axes>"
      ]
     },
     "metadata": {
      "needs_background": "light"
     },
     "output_type": "display_data"
    }
   ],
   "source": [
    "plt.title('The number of errors per an epoch')\n",
    "plt.xlabel('Epochs')\n",
    "plt.ylabel('Errors')\n",
    "plt.plot(range(1, model.epochs+1), model.errors, marker='o')"
   ]
  },
  {
   "cell_type": "markdown",
   "metadata": {},
   "source": [
    "#### 5. モデルを評価します"
   ]
  },
  {
   "cell_type": "code",
   "execution_count": 26,
   "metadata": {},
   "outputs": [
    {
     "name": "stdout",
     "output_type": "stream",
     "text": [
      "accuracy = 1.0\n"
     ]
    }
   ],
   "source": [
    "correctness = 0\n",
    "for x, t in zip(X_test, t_test):\n",
    "    output = model.predict(x)\n",
    "    correctness += np.where(output == t, 1, 0)\n",
    "\n",
    "print(f'accuracy = {correctness / len(X_test)}')"
   ]
  },
  {
   "cell_type": "markdown",
   "metadata": {},
   "source": [
    "#### 6. 標準化を試します\n",
    "つまり、各特徴量の平均を0に、標準偏差を１にします。  \n",
    "そのために、各特徴量から平均を引き、標準偏差で割る必要があります。\n",
    "$$ x'_j = \\frac{x_j-\\mu_j} {\\sigma_j} $$"
   ]
  },
  {
   "cell_type": "code",
   "execution_count": 27,
   "metadata": {},
   "outputs": [],
   "source": [
    "X_copied = np.copy(X_train)\n",
    "mu = np.mean(X_copied, axis=0)\n",
    "sigma = np.std(X_copied, axis=0)\n",
    "\n",
    "X_standarization = (X_copied - mu) / sigma\n",
    "\n",
    "model2 = ADALINE()\n",
    "model2.fit(X_standarization, t_train)"
   ]
  },
  {
   "cell_type": "code",
   "execution_count": 28,
   "metadata": {},
   "outputs": [
    {
     "name": "stdout",
     "output_type": "stream",
     "text": [
      "accuracy = 1.0\n"
     ]
    },
    {
     "data": {
      "image/png": "[encoded data removed]",
      "text/plain": [
       "<Figure size 432x288 with 1 Axes>"
      ]
     },
     "metadata": {
      "needs_background": "light"
     },
     "output_type": "display_data"
    }
   ],
   "source": [
    "plt.title('The number of errors per an epoch')\n",
    "plt.xlabel('Epochs')\n",
    "plt.ylabel('Errors')\n",
    "plt.plot(range(1, model2.epochs+1), model2.errors, marker='o')\n",
    "\n",
    "correctness = 0\n",
    "for x, t in zip(X_test, t_test):\n",
    "    output = model.predict(x)\n",
    "    correctness += np.where(output == t, 1, 0)\n",
    "\n",
    "print(f'accuracy = {correctness / len(X_test)}')"
   ]
  },
  {
   "cell_type": "markdown",
   "metadata": {},
   "source": [
    "#### 7. 確率的勾配降下法の実装\n",
    "**確率的勾配降下法**（逐次的勾配降下法、オンライン勾配降下法とも）とは、サンプル１つ１つに対して重みの更新を行う方法のことです。  \n",
    "ADALINEで実装した、バッチ勾配降下法（トレーニングデータ全体を常に考慮した重みの更新）に比べ、１つ１つのデータの影響を受けやすいが、局所的最小値を抜け出しやすいというメリットが有ります。また、**オンライン学習**（新しいトレーニングデータが届いたときに追加で学習する）を可能にします。"
   ]
  },
  {
   "cell_type": "code",
   "execution_count": 29,
   "metadata": {},
   "outputs": [],
   "source": [
    "class ADALINESGD:\n",
    "    \n",
    "    \n",
    "    def __init__(self, learning_rate=0.0005, epochs=20):\n",
    "        \n",
    "        self.eta = learning_rate\n",
    "        self.epochs = epochs\n",
    "        self.errors = []\n",
    "        \n",
    "    \n",
    "    def fit(self, X, target):\n",
    "        \n",
    "        \"\"\"Traning model.\"\"\"\n",
    "        \n",
    "        self.w_ = np.random.normal(loc=0, scale=0.0001, size=X.shape[1] + 1)\n",
    "        \n",
    "        for _ in range(self.epochs):\n",
    "            \n",
    "            error_per_epoch = []\n",
    "            for xi, ti in zip(X, target):\n",
    "                \n",
    "                sigma = self.calculate_sigma(xi)\n",
    "                activation_output = self.activation_func(sigma)\n",
    "                error = self.update_w(activation_output, xi, ti)\n",
    "                error_per_epoch.append(error)\n",
    "                \n",
    "            self.errors.append(np.mean(error_per_epoch))           \n",
    "    \n",
    "    \n",
    "    def calculate_sigma(self, xi):\n",
    "        \n",
    "        \"\"\"Calculate the sum of products of input values and weights.\"\"\"\n",
    "        \n",
    "        sigma = np.dot(xi, self.w_[1:]) + self.w_[0]\n",
    "        return sigma\n",
    "    \n",
    "    \n",
    "    def activation_func(self, sigma):\n",
    "        \n",
    "        \"\"\"Apply activation function, but that is identity function for ADALINE.\"\"\"\n",
    "        \n",
    "        return sigma\n",
    "    \n",
    "    \n",
    "    def update_w(self, activation_output, xi, ti, return_cost=True):\n",
    "        \n",
    "        \"\"\"Calculate the variation of weights and update it.\"\"\"\n",
    "        \n",
    "        error = ti - activation_output        \n",
    "        \n",
    "        delta_w_0 = self.eta * error\n",
    "        delta_w_1_ = self.eta * error * xi\n",
    "        delta_w = np.insert(delta_w_1_, 0, delta_w_0)\n",
    "        self.w_ += delta_w\n",
    "        \n",
    "        if return_cost:\n",
    "            cost = self.cost_func(error)\n",
    "            return cost\n",
    "    \n",
    "    \n",
    "    def cost_func(self, error):\n",
    "        \n",
    "        \"\"\"Apply cost function, but that is SSE(Sum of Squared Error).\"\"\"\n",
    "        \n",
    "        cost = (error**2) / 2\n",
    "        return cost    \n",
    "\n",
    "    \n",
    "    def predict(self, xi):\n",
    "        \n",
    "        \"\"\"Predict the answer.\"\"\"\n",
    "        \n",
    "        sigma = self.calculate_sigma(xi)\n",
    "        activation_output = self.activation_func(sigma)\n",
    "        output = self.one_step_func(activation_output)\n",
    "        return output\n",
    "    \n",
    "    \n",
    "    def one_step_func(self, activation_output):\n",
    "        \n",
    "        \"\"\"Separate data from activation_output into 1 or 0.\"\"\"\n",
    "        \n",
    "        return np.where(activation_output>=0.5, 1, 0)\n",
    "    \n",
    "    \n",
    "    def partica_fit(self, X, target):\n",
    "        \n",
    "        \"\"\"Learn additionaly.\"\"\"\n",
    "        \n",
    "        sigma = self.calculate_sigma(xi)\n",
    "        activation_output = self.activation_func(sigma)\n",
    "        \n",
    "        for xi, ti in zip(X, target):\n",
    "            self.update_w(activation_output, xi, ti, return_cost=False)\n"
   ]
  },
  {
   "cell_type": "markdown",
   "metadata": {},
   "source": [
    "#### 8. モデルをトレーニングして結果を表示します。\n",
    "縦軸の値が今までで一番小さいです。"
   ]
  },
  {
   "cell_type": "code",
   "execution_count": 30,
   "metadata": {},
   "outputs": [],
   "source": [
    "model = ADALINESGD()\n",
    "iris = datasets.load_iris()\n",
    "X = iris.data[:100]\n",
    "t = iris.target[:100]\n",
    "X_train, X_test, t_train, t_test = train_test_split(X, t, stratify=t)\n",
    "\n",
    "model.fit(X_train, t_train)"
   ]
  },
  {
   "cell_type": "code",
   "execution_count": 33,
   "metadata": {},
   "outputs": [
    {
     "name": "stdout",
     "output_type": "stream",
     "text": [
      "accuracy = 1.0\n"
     ]
    },
    {
     "data": {
      "image/png": "[encoded data removed]",
      "text/plain": [
       "<Figure size 432x288 with 1 Axes>"
      ]
     },
     "metadata": {
      "needs_background": "light"
     },
     "output_type": "display_data"
    }
   ],
   "source": [
    "plt.title('The number of errors per an epoch')\n",
    "plt.xlabel('Epochs')\n",
    "plt.ylabel('Errors')\n",
    "plt.plot(range(1, model.epochs+1), model.errors, marker='o')\n",
    "\n",
    "\n",
    "correctness = 0\n",
    "for x, t in zip(X_test, t_test):\n",
    "    output = model.predict(x)\n",
    "    correctness += np.where(output == t, 1, 0)\n",
    "\n",
    "print(f'accuracy = {correctness / len(X_test)}')"
   ]
  }
 ],
 "metadata": {
  "kernelspec": {
   "display_name": "Python 3",
   "language": "python",
   "name": "python3"
  },
  "language_info": {
   "codemirror_mode": {
    "name": "ipython",
    "version": 3
   },
   "file_extension": ".py",
   "mimetype": "text/x-python",
   "name": "python",
   "nbconvert_exporter": "python",
   "pygments_lexer": "ipython3",
   "version": "3.7.6"
  }
 },
 "nbformat": 4,
 "nbformat_minor": 4
}
