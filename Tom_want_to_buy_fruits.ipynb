{
  "nbformat": 4,
  "nbformat_minor": 0,
  "metadata": {
    "colab": {
      "name": "Tom want to buy fruits.ipynb",
      "provenance": [],
      "authorship_tag": "ABX9TyO7NFdL9KyBodnPSmTFVneh",
      "include_colab_link": true
    },
    "kernelspec": {
      "name": "python3",
      "display_name": "Python 3"
    }
  },
  "cells": [
    {
      "cell_type": "markdown",
      "metadata": {
        "id": "view-in-github",
        "colab_type": "text"
      },
      "source": [
        "<a href=\"https://colab.research.google.com/github/Yuki-yy/machine-learning/blob/master/Tom_want_to_buy_fruits.ipynb\" target=\"_parent\"><img src=\"https://colab.research.google.com/assets/colab-badge.svg\" alt=\"Open In Colab\"/></a>"
      ]
    },
    {
      "cell_type": "code",
      "metadata": {
        "id": "9A7ACvmByeU7",
        "colab_type": "code",
        "colab": {}
      },
      "source": [
        "def buy_fruits(apple, banana, toms_money):\n",
        "\n",
        "  apple_price = 130\n",
        "  banana_price = 140\n",
        "\n",
        "  sum = apple_price * apple + banana_price * banana\n",
        "\n",
        "  if sum <= toms_money:\n",
        "    print('買う！')\n",
        "\n",
        "  else:\n",
        "    print('あきらめよう...')"
      ],
      "execution_count": 9,
      "outputs": []
    },
    {
      "cell_type": "code",
      "metadata": {
        "id": "3VJa8-TqzD_y",
        "colab_type": "code",
        "colab": {
          "base_uri": "https://localhost:8080/",
          "height": 68
        },
        "outputId": "b9d5e7e2-1b88-49f3-9d06-28f988225712"
      },
      "source": [
        "# コードが書けたらこのセルを実行して下さい\n",
        "# 正解かどうか確認しましょう！\n",
        "# appleはリンゴの個数、bananaはバナナの個数です\n",
        "# toms_moneyはトムの所持金です\n",
        "\n",
        "buy_fruits(apple=2, banana=3, toms_money=800)\n",
        "buy_fruits(apple=247, banana=597, toms_money=1000000)\n",
        "buy_fruits(apple=1000, banana=1000, toms_money=0)"
      ],
      "execution_count": 10,
      "outputs": [
        {
          "output_type": "stream",
          "text": [
            "買う！\n",
            "買う！\n",
            "あきらめよう...\n"
          ],
          "name": "stdout"
        }
      ]
    }
  ]
}