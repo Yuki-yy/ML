{
  "nbformat": 4,
  "nbformat_minor": 0,
  "metadata": {
    "colab": {
      "name": "機械設計製図",
      "provenance": [],
      "authorship_tag": "ABX9TyOnKmsUQK8/CdNctPFYja92",
      "include_colab_link": true
    },
    "kernelspec": {
      "name": "python3",
      "display_name": "Python 3"
    }
  },
  "cells": [
    {
      "cell_type": "markdown",
      "metadata": {
        "id": "view-in-github",
        "colab_type": "text"
      },
      "source": [
        "<a href=\"https://colab.research.google.com/github/Yuki-yy/machine-learning/blob/master/%E6%A9%9F%E6%A2%B0%E8%A8%AD%E8%A8%88%E8%A3%BD%E5%9B%B3.ipynb\" target=\"_parent\"><img src=\"https://colab.research.google.com/assets/colab-badge.svg\" alt=\"Open In Colab\"/></a>"
      ]
    },
    {
      "cell_type": "code",
      "metadata": {
        "id": "Csbphmje0Qrc",
        "colab_type": "code",
        "colab": {
          "base_uri": "https://localhost:8080/",
          "height": 51
        },
        "outputId": "36c0fd66-cbf3-4fc0-d23d-c7397f325736"
      },
      "source": [
        "numbers = range(1, 4335)\n",
        "sosuu = []\n",
        "\n",
        "for num in numbers:\n",
        "  li = range(2, num)\n",
        "  for n in li:\n",
        "    if num % n == 0:\n",
        "      break\n",
        "  else:\n",
        "    sosuu.append(num)\n",
        "\n",
        "for num in sosuu:\n",
        "  for n in sosuu:\n",
        "    inte = range(100)\n",
        "    for i in inte:\n",
        "      ans = num * n * i\n",
        "      if 4000 < ans and ans < 5000:\n",
        "        if abs(3 * num * i - n * 4) == 17:\n",
        "          print(f'{num} * {i} * {n} = {ans}')"
      ],
      "execution_count": 42,
      "outputs": [
        {
          "output_type": "stream",
          "text": [
            "1 * 73 * 59 = 4307\n",
            "73 * 1 * 59 = 4307\n"
          ],
          "name": "stdout"
        }
      ]
    }
  ]
}